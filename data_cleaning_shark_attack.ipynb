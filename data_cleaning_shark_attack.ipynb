{
 "cells": [
  {
   "cell_type": "markdown",
   "source": [
    "# Shark Attack Project"
   ],
   "metadata": {
    "collapsed": false
   }
  },
  {
   "cell_type": "markdown",
   "source": [
    "---"
   ],
   "metadata": {
    "collapsed": false
   }
  },
  {
   "cell_type": "markdown",
   "source": [
    "# Importing libraries"
   ],
   "metadata": {
    "collapsed": false
   }
  },
  {
   "cell_type": "markdown",
   "source": [
    "---"
   ],
   "metadata": {
    "collapsed": false
   }
  },
  {
   "cell_type": "code",
   "execution_count": 81,
   "metadata": {
    "collapsed": true
   },
   "outputs": [],
   "source": [
    "# Data wrangling and cleaning\n",
    "import pandas as pd\n",
    "import numpy as np\n",
    "import re\n",
    "\n",
    "# Data visualisation\n",
    "import matplotlib.pyplot as plt\n",
    "import seaborn as sns\n",
    "\n",
    "# To handle species.txt file accessible through a url\n",
    "import urllib\n",
    "\n",
    "# To create \"year\", \"month\", and \"day\" columns\n",
    "from datetime import datetime\n",
    "\n",
    "# Setting preferences for pandas\n",
    "pd.set_option('display.max_rows', 100)\n",
    "pd.set_option('display.max_columns', None)"
   ]
  },
  {
   "cell_type": "markdown",
   "source": [
    "---"
   ],
   "metadata": {
    "collapsed": false
   }
  },
  {
   "cell_type": "markdown",
   "source": [
    "# Loading file into a DataFrame"
   ],
   "metadata": {
    "collapsed": false
   }
  },
  {
   "cell_type": "markdown",
   "source": [
    "---"
   ],
   "metadata": {
    "collapsed": false
   }
  },
  {
   "cell_type": "code",
   "execution_count": 82,
   "outputs": [
    {
     "name": "stdout",
     "output_type": "stream",
     "text": [
      "Case Number,Date,Year,Type,Country,Area,Location,Activity,Name,Sex ,Age,Injury,Fatal (Y/N),Time,Species ,Investigator or Source,pdf,href formula,href,Case Number,Case Number,original order,,\r\n",
      "\n",
      "2018.06.25,25-Jun-2018,2018,Boating,USA,California,\"Oceanside, San Diego County\",Paddling,Julie Wolfe,F,57,\"No injury to occupant, outrigger canoe and paddle damaged\",N,18h00,White shark,\"R. Collier, GSAF\",2018.06.25-Wolfe.pdf,http://sharkattackfile.net/spreadsheets/pdf_directory/2018.06.25-Wolfe.pdf,http://sharkattackfile.net/spreadsheets/pdf_directory/2018.06.25-Wolfe.pdf,2018.06.25,2018.06.25,6303,,\r\n",
      "\n"
     ]
    }
   ],
   "source": [
    "with open(\"data/attacks.csv\", \"rb\") as file:\n",
    "    file_lines = file.readlines(500)\n",
    "    for line in file_lines:\n",
    "        print(line.decode('latin-1'))"
   ],
   "metadata": {
    "collapsed": false
   }
  },
  {
   "cell_type": "code",
   "execution_count": 83,
   "outputs": [
    {
     "name": "stdout",
     "output_type": "stream",
     "text": [
      "DataFrame shape = (25723, 24)\n",
      "\n",
      "<class 'pandas.core.frame.DataFrame'>\n",
      "RangeIndex: 25723 entries, 0 to 25722\n",
      "Data columns (total 24 columns):\n",
      " #   Column                  Non-Null Count  Dtype  \n",
      "---  ------                  --------------  -----  \n",
      " 0   Case Number             8702 non-null   object \n",
      " 1   Date                    6302 non-null   object \n",
      " 2   Year                    6300 non-null   float64\n",
      " 3   Type                    6298 non-null   object \n",
      " 4   Country                 6252 non-null   object \n",
      " 5   Area                    5847 non-null   object \n",
      " 6   Location                5762 non-null   object \n",
      " 7   Activity                5758 non-null   object \n",
      " 8   Name                    6092 non-null   object \n",
      " 9   Sex                     5737 non-null   object \n",
      " 10  Age                     3471 non-null   object \n",
      " 11  Injury                  6274 non-null   object \n",
      " 12  Fatal (Y/N)             5763 non-null   object \n",
      " 13  Time                    2948 non-null   object \n",
      " 14  Species                 3464 non-null   object \n",
      " 15  Investigator or Source  6285 non-null   object \n",
      " 16  pdf                     6302 non-null   object \n",
      " 17  href formula            6301 non-null   object \n",
      " 18  href                    6302 non-null   object \n",
      " 19  Case Number.1           6302 non-null   object \n",
      " 20  Case Number.2           6302 non-null   object \n",
      " 21  original order          6309 non-null   float64\n",
      " 22  Unnamed: 22             1 non-null      object \n",
      " 23  Unnamed: 23             2 non-null      object \n",
      "dtypes: float64(2), object(22)\n",
      "memory usage: 4.7+ MB\n",
      "None\n",
      "\n"
     ]
    }
   ],
   "source": [
    "shark = pd.read_csv(\"data/attacks.csv\", sep=\",\", encoding=\"latin-1\")\n",
    "\n",
    "print(f\"DataFrame shape = {shark.shape}\\n\")\n",
    "print(f\"{shark.info()}\\n\")"
   ],
   "metadata": {
    "collapsed": false
   }
  },
  {
   "cell_type": "code",
   "execution_count": 84,
   "outputs": [
    {
     "data": {
      "text/plain": "  Case Number         Date    Year        Type    Country             Area  \\\n0  2018.06.25  25-Jun-2018  2018.0     Boating        USA       California   \n1  2018.06.18  18-Jun-2018  2018.0  Unprovoked        USA          Georgia   \n2  2018.06.09  09-Jun-2018  2018.0     Invalid        USA           Hawaii   \n3  2018.06.08  08-Jun-2018  2018.0  Unprovoked  AUSTRALIA  New South Wales   \n4  2018.06.04  04-Jun-2018  2018.0    Provoked     MEXICO           Colima   \n\n                         Location     Activity             Name Sex   Age  \\\n0     Oceanside, San Diego County     Paddling      Julie Wolfe    F   57   \n1  St. Simon Island, Glynn County     Standing  Adyson McNeely     F   11   \n2                    Habush, Oahu      Surfing      John Denges    M   48   \n3              Arrawarra Headland      Surfing             male    M  NaN   \n4                        La Ticla  Free diving   Gustavo Ramos     M  NaN   \n\n                                              Injury Fatal (Y/N)  \\\n0  No injury to occupant, outrigger canoe and pad...           N   \n1                         Minor injury to left thigh           N   \n2       Injury to left lower leg from surfboard skeg           N   \n3                          Minor injury to lower leg           N   \n4  Lacerations to leg & hand shark PROVOKED INCIDENT           N   \n\n            Time         Species           Investigator or Source  \\\n0          18h00      White shark                R. Collier, GSAF   \n1  14h00  -15h00              NaN  K.McMurray, TrackingSharks.com   \n2          07h45              NaN  K.McMurray, TrackingSharks.com   \n3            NaN        2 m shark                  B. Myatt, GSAF   \n4            NaN  Tiger shark, 3m                       A .Kipper   \n\n                        pdf  \\\n0      2018.06.25-Wolfe.pdf   \n1    2018.06.18-McNeely.pdf   \n2     2018.06.09-Denges.pdf   \n3  2018.06.08-Arrawarra.pdf   \n4      2018.06.04-Ramos.pdf   \n\n                                        href formula  \\\n0  http://sharkattackfile.net/spreadsheets/pdf_di...   \n1  http://sharkattackfile.net/spreadsheets/pdf_di...   \n2  http://sharkattackfile.net/spreadsheets/pdf_di...   \n3  http://sharkattackfile.net/spreadsheets/pdf_di...   \n4  http://sharkattackfile.net/spreadsheets/pdf_di...   \n\n                                                href Case Number.1  \\\n0  http://sharkattackfile.net/spreadsheets/pdf_di...    2018.06.25   \n1  http://sharkattackfile.net/spreadsheets/pdf_di...    2018.06.18   \n2  http://sharkattackfile.net/spreadsheets/pdf_di...    2018.06.09   \n3  http://sharkattackfile.net/spreadsheets/pdf_di...    2018.06.08   \n4  http://sharkattackfile.net/spreadsheets/pdf_di...    2018.06.04   \n\n  Case Number.2  original order Unnamed: 22 Unnamed: 23  \n0    2018.06.25          6303.0         NaN         NaN  \n1    2018.06.18          6302.0         NaN         NaN  \n2    2018.06.09          6301.0         NaN         NaN  \n3    2018.06.08          6300.0         NaN         NaN  \n4    2018.06.04          6299.0         NaN         NaN  ",
      "text/html": "<div>\n<style scoped>\n    .dataframe tbody tr th:only-of-type {\n        vertical-align: middle;\n    }\n\n    .dataframe tbody tr th {\n        vertical-align: top;\n    }\n\n    .dataframe thead th {\n        text-align: right;\n    }\n</style>\n<table border=\"1\" class=\"dataframe\">\n  <thead>\n    <tr style=\"text-align: right;\">\n      <th></th>\n      <th>Case Number</th>\n      <th>Date</th>\n      <th>Year</th>\n      <th>Type</th>\n      <th>Country</th>\n      <th>Area</th>\n      <th>Location</th>\n      <th>Activity</th>\n      <th>Name</th>\n      <th>Sex</th>\n      <th>Age</th>\n      <th>Injury</th>\n      <th>Fatal (Y/N)</th>\n      <th>Time</th>\n      <th>Species</th>\n      <th>Investigator or Source</th>\n      <th>pdf</th>\n      <th>href formula</th>\n      <th>href</th>\n      <th>Case Number.1</th>\n      <th>Case Number.2</th>\n      <th>original order</th>\n      <th>Unnamed: 22</th>\n      <th>Unnamed: 23</th>\n    </tr>\n  </thead>\n  <tbody>\n    <tr>\n      <th>0</th>\n      <td>2018.06.25</td>\n      <td>25-Jun-2018</td>\n      <td>2018.0</td>\n      <td>Boating</td>\n      <td>USA</td>\n      <td>California</td>\n      <td>Oceanside, San Diego County</td>\n      <td>Paddling</td>\n      <td>Julie Wolfe</td>\n      <td>F</td>\n      <td>57</td>\n      <td>No injury to occupant, outrigger canoe and pad...</td>\n      <td>N</td>\n      <td>18h00</td>\n      <td>White shark</td>\n      <td>R. Collier, GSAF</td>\n      <td>2018.06.25-Wolfe.pdf</td>\n      <td>http://sharkattackfile.net/spreadsheets/pdf_di...</td>\n      <td>http://sharkattackfile.net/spreadsheets/pdf_di...</td>\n      <td>2018.06.25</td>\n      <td>2018.06.25</td>\n      <td>6303.0</td>\n      <td>NaN</td>\n      <td>NaN</td>\n    </tr>\n    <tr>\n      <th>1</th>\n      <td>2018.06.18</td>\n      <td>18-Jun-2018</td>\n      <td>2018.0</td>\n      <td>Unprovoked</td>\n      <td>USA</td>\n      <td>Georgia</td>\n      <td>St. Simon Island, Glynn County</td>\n      <td>Standing</td>\n      <td>Adyson McNeely</td>\n      <td>F</td>\n      <td>11</td>\n      <td>Minor injury to left thigh</td>\n      <td>N</td>\n      <td>14h00  -15h00</td>\n      <td>NaN</td>\n      <td>K.McMurray, TrackingSharks.com</td>\n      <td>2018.06.18-McNeely.pdf</td>\n      <td>http://sharkattackfile.net/spreadsheets/pdf_di...</td>\n      <td>http://sharkattackfile.net/spreadsheets/pdf_di...</td>\n      <td>2018.06.18</td>\n      <td>2018.06.18</td>\n      <td>6302.0</td>\n      <td>NaN</td>\n      <td>NaN</td>\n    </tr>\n    <tr>\n      <th>2</th>\n      <td>2018.06.09</td>\n      <td>09-Jun-2018</td>\n      <td>2018.0</td>\n      <td>Invalid</td>\n      <td>USA</td>\n      <td>Hawaii</td>\n      <td>Habush, Oahu</td>\n      <td>Surfing</td>\n      <td>John Denges</td>\n      <td>M</td>\n      <td>48</td>\n      <td>Injury to left lower leg from surfboard skeg</td>\n      <td>N</td>\n      <td>07h45</td>\n      <td>NaN</td>\n      <td>K.McMurray, TrackingSharks.com</td>\n      <td>2018.06.09-Denges.pdf</td>\n      <td>http://sharkattackfile.net/spreadsheets/pdf_di...</td>\n      <td>http://sharkattackfile.net/spreadsheets/pdf_di...</td>\n      <td>2018.06.09</td>\n      <td>2018.06.09</td>\n      <td>6301.0</td>\n      <td>NaN</td>\n      <td>NaN</td>\n    </tr>\n    <tr>\n      <th>3</th>\n      <td>2018.06.08</td>\n      <td>08-Jun-2018</td>\n      <td>2018.0</td>\n      <td>Unprovoked</td>\n      <td>AUSTRALIA</td>\n      <td>New South Wales</td>\n      <td>Arrawarra Headland</td>\n      <td>Surfing</td>\n      <td>male</td>\n      <td>M</td>\n      <td>NaN</td>\n      <td>Minor injury to lower leg</td>\n      <td>N</td>\n      <td>NaN</td>\n      <td>2 m shark</td>\n      <td>B. Myatt, GSAF</td>\n      <td>2018.06.08-Arrawarra.pdf</td>\n      <td>http://sharkattackfile.net/spreadsheets/pdf_di...</td>\n      <td>http://sharkattackfile.net/spreadsheets/pdf_di...</td>\n      <td>2018.06.08</td>\n      <td>2018.06.08</td>\n      <td>6300.0</td>\n      <td>NaN</td>\n      <td>NaN</td>\n    </tr>\n    <tr>\n      <th>4</th>\n      <td>2018.06.04</td>\n      <td>04-Jun-2018</td>\n      <td>2018.0</td>\n      <td>Provoked</td>\n      <td>MEXICO</td>\n      <td>Colima</td>\n      <td>La Ticla</td>\n      <td>Free diving</td>\n      <td>Gustavo Ramos</td>\n      <td>M</td>\n      <td>NaN</td>\n      <td>Lacerations to leg &amp; hand shark PROVOKED INCIDENT</td>\n      <td>N</td>\n      <td>NaN</td>\n      <td>Tiger shark, 3m</td>\n      <td>A .Kipper</td>\n      <td>2018.06.04-Ramos.pdf</td>\n      <td>http://sharkattackfile.net/spreadsheets/pdf_di...</td>\n      <td>http://sharkattackfile.net/spreadsheets/pdf_di...</td>\n      <td>2018.06.04</td>\n      <td>2018.06.04</td>\n      <td>6299.0</td>\n      <td>NaN</td>\n      <td>NaN</td>\n    </tr>\n  </tbody>\n</table>\n</div>"
     },
     "execution_count": 84,
     "metadata": {},
     "output_type": "execute_result"
    }
   ],
   "source": [
    "shark.head()"
   ],
   "metadata": {
    "collapsed": false
   }
  },
  {
   "cell_type": "markdown",
   "source": [
    "---"
   ],
   "metadata": {
    "collapsed": false
   }
  },
  {
   "cell_type": "markdown",
   "source": [
    "# Standardizing column names"
   ],
   "metadata": {
    "collapsed": false
   }
  },
  {
   "cell_type": "markdown",
   "source": [
    "---"
   ],
   "metadata": {
    "collapsed": false
   }
  },
  {
   "cell_type": "code",
   "execution_count": 85,
   "outputs": [
    {
     "data": {
      "text/plain": "  case_number         date    year        type country        area  \\\n0  2018.06.25  25-Jun-2018  2018.0     Boating     USA  California   \n1  2018.06.18  18-Jun-2018  2018.0  Unprovoked     USA     Georgia   \n\n                         location  activity             name sex age  \\\n0     Oceanside, San Diego County  Paddling      Julie Wolfe   F  57   \n1  St. Simon Island, Glynn County  Standing  Adyson McNeely    F  11   \n\n                                              injury fatal_(y/n)  \\\n0  No injury to occupant, outrigger canoe and pad...           N   \n1                         Minor injury to left thigh           N   \n\n            time      species          investigator_or_source  \\\n0          18h00  White shark                R. Collier, GSAF   \n1  14h00  -15h00          NaN  K.McMurray, TrackingSharks.com   \n\n                      pdf                                       href_formula  \\\n0    2018.06.25-Wolfe.pdf  http://sharkattackfile.net/spreadsheets/pdf_di...   \n1  2018.06.18-McNeely.pdf  http://sharkattackfile.net/spreadsheets/pdf_di...   \n\n                                                href case_number.1  \\\n0  http://sharkattackfile.net/spreadsheets/pdf_di...    2018.06.25   \n1  http://sharkattackfile.net/spreadsheets/pdf_di...    2018.06.18   \n\n  case_number.2  original_order unnamed:_22 unnamed:_23  \n0    2018.06.25          6303.0         NaN         NaN  \n1    2018.06.18          6302.0         NaN         NaN  ",
      "text/html": "<div>\n<style scoped>\n    .dataframe tbody tr th:only-of-type {\n        vertical-align: middle;\n    }\n\n    .dataframe tbody tr th {\n        vertical-align: top;\n    }\n\n    .dataframe thead th {\n        text-align: right;\n    }\n</style>\n<table border=\"1\" class=\"dataframe\">\n  <thead>\n    <tr style=\"text-align: right;\">\n      <th></th>\n      <th>case_number</th>\n      <th>date</th>\n      <th>year</th>\n      <th>type</th>\n      <th>country</th>\n      <th>area</th>\n      <th>location</th>\n      <th>activity</th>\n      <th>name</th>\n      <th>sex</th>\n      <th>age</th>\n      <th>injury</th>\n      <th>fatal_(y/n)</th>\n      <th>time</th>\n      <th>species</th>\n      <th>investigator_or_source</th>\n      <th>pdf</th>\n      <th>href_formula</th>\n      <th>href</th>\n      <th>case_number.1</th>\n      <th>case_number.2</th>\n      <th>original_order</th>\n      <th>unnamed:_22</th>\n      <th>unnamed:_23</th>\n    </tr>\n  </thead>\n  <tbody>\n    <tr>\n      <th>0</th>\n      <td>2018.06.25</td>\n      <td>25-Jun-2018</td>\n      <td>2018.0</td>\n      <td>Boating</td>\n      <td>USA</td>\n      <td>California</td>\n      <td>Oceanside, San Diego County</td>\n      <td>Paddling</td>\n      <td>Julie Wolfe</td>\n      <td>F</td>\n      <td>57</td>\n      <td>No injury to occupant, outrigger canoe and pad...</td>\n      <td>N</td>\n      <td>18h00</td>\n      <td>White shark</td>\n      <td>R. Collier, GSAF</td>\n      <td>2018.06.25-Wolfe.pdf</td>\n      <td>http://sharkattackfile.net/spreadsheets/pdf_di...</td>\n      <td>http://sharkattackfile.net/spreadsheets/pdf_di...</td>\n      <td>2018.06.25</td>\n      <td>2018.06.25</td>\n      <td>6303.0</td>\n      <td>NaN</td>\n      <td>NaN</td>\n    </tr>\n    <tr>\n      <th>1</th>\n      <td>2018.06.18</td>\n      <td>18-Jun-2018</td>\n      <td>2018.0</td>\n      <td>Unprovoked</td>\n      <td>USA</td>\n      <td>Georgia</td>\n      <td>St. Simon Island, Glynn County</td>\n      <td>Standing</td>\n      <td>Adyson McNeely</td>\n      <td>F</td>\n      <td>11</td>\n      <td>Minor injury to left thigh</td>\n      <td>N</td>\n      <td>14h00  -15h00</td>\n      <td>NaN</td>\n      <td>K.McMurray, TrackingSharks.com</td>\n      <td>2018.06.18-McNeely.pdf</td>\n      <td>http://sharkattackfile.net/spreadsheets/pdf_di...</td>\n      <td>http://sharkattackfile.net/spreadsheets/pdf_di...</td>\n      <td>2018.06.18</td>\n      <td>2018.06.18</td>\n      <td>6302.0</td>\n      <td>NaN</td>\n      <td>NaN</td>\n    </tr>\n  </tbody>\n</table>\n</div>"
     },
     "execution_count": 85,
     "metadata": {},
     "output_type": "execute_result"
    }
   ],
   "source": [
    "standardized_shark_cols = [col.strip().lower().replace(\" \", \"_\") for col in shark.columns]\n",
    "shark.columns = standardized_shark_cols\n",
    "\n",
    "shark.head(2)"
   ],
   "metadata": {
    "collapsed": false
   }
  },
  {
   "cell_type": "markdown",
   "source": [
    "---"
   ],
   "metadata": {
    "collapsed": false
   }
  },
  {
   "cell_type": "markdown",
   "source": [
    "# Addressing null values"
   ],
   "metadata": {
    "collapsed": false
   }
  },
  {
   "cell_type": "markdown",
   "source": [
    "---"
   ],
   "metadata": {
    "collapsed": false
   }
  },
  {
   "cell_type": "code",
   "execution_count": 86,
   "outputs": [
    {
     "data": {
      "text/plain": "<Figure size 1080x432 with 1 Axes>",
      "image/png": "[encoded data removed]"
     },
     "metadata": {},
     "output_type": "display_data"
    }
   ],
   "source": [
    "fig, ax = plt.subplots(figsize = (15, 6))\n",
    "\n",
    "null_count_cols = shark.isna().sum().sort_values()\n",
    "\n",
    "plt.bar(x=null_count_cols.index, height=shark.shape[0], color=\"blue\", label=\"Non-null\")\n",
    "plt.bar(x=null_count_cols.index, height=null_count_cols, bottom=shark.shape[0]-null_count_cols, color=\"red\", label=\"Null\")\n",
    "\n",
    "# Line-drawing and text annotation\n",
    "plt.axhline(y=shark.shape[0]/2, linestyle=\"--\")\n",
    "ax.annotate(\"50%\", xy=(23.5, shark.shape[0]/2 + 300), fontsize=25)\n",
    "\n",
    "# x-labels\n",
    "ax.set_xlabel(\"Column Name\", fontsize=14)\n",
    "plt.xticks(rotation=90, fontsize=12)\n",
    "\n",
    "# y-labels\n",
    "ax.set_ylabel(\"Null Value Count\", fontsize=14)\n",
    "plt.yticks(fontsize=13)\n",
    "\n",
    "# Title and legend\n",
    "ax.set_title(\"Null Values per Column\", fontsize=18)\n",
    "plt.legend(fontsize=16, loc='upper left', bbox_to_anchor=(1, 1));"
   ],
   "metadata": {
    "collapsed": false
   }
  },
  {
   "cell_type": "code",
   "execution_count": 87,
   "outputs": [
    {
     "data": {
      "text/plain": "0    2\n1    3\n2    3\nName: null_count, dtype: int64"
     },
     "execution_count": 87,
     "metadata": {},
     "output_type": "execute_result"
    }
   ],
   "source": [
    "shark[\"null_count\"] = shark.isna().sum(axis=1)\n",
    "shark[\"null_count\"].head(3)"
   ],
   "metadata": {
    "collapsed": false
   }
  },
  {
   "cell_type": "code",
   "execution_count": 88,
   "outputs": [
    {
     "data": {
      "text/plain": "              year  original_order    null_count\ncount  6300.000000     6309.000000  25723.000000\nmean   1927.272381     3155.999683     18.982078\nstd     281.116308     1821.396206      8.631545\nmin       0.000000        2.000000      2.000000\n25%    1942.000000     1579.000000     23.000000\n50%    1977.000000     3156.000000     24.000000\n75%    2005.000000     4733.000000     24.000000\nmax    2018.000000     6310.000000     24.000000",
      "text/html": "<div>\n<style scoped>\n    .dataframe tbody tr th:only-of-type {\n        vertical-align: middle;\n    }\n\n    .dataframe tbody tr th {\n        vertical-align: top;\n    }\n\n    .dataframe thead th {\n        text-align: right;\n    }\n</style>\n<table border=\"1\" class=\"dataframe\">\n  <thead>\n    <tr style=\"text-align: right;\">\n      <th></th>\n      <th>year</th>\n      <th>original_order</th>\n      <th>null_count</th>\n    </tr>\n  </thead>\n  <tbody>\n    <tr>\n      <th>count</th>\n      <td>6300.000000</td>\n      <td>6309.000000</td>\n      <td>25723.000000</td>\n    </tr>\n    <tr>\n      <th>mean</th>\n      <td>1927.272381</td>\n      <td>3155.999683</td>\n      <td>18.982078</td>\n    </tr>\n    <tr>\n      <th>std</th>\n      <td>281.116308</td>\n      <td>1821.396206</td>\n      <td>8.631545</td>\n    </tr>\n    <tr>\n      <th>min</th>\n      <td>0.000000</td>\n      <td>2.000000</td>\n      <td>2.000000</td>\n    </tr>\n    <tr>\n      <th>25%</th>\n      <td>1942.000000</td>\n      <td>1579.000000</td>\n      <td>23.000000</td>\n    </tr>\n    <tr>\n      <th>50%</th>\n      <td>1977.000000</td>\n      <td>3156.000000</td>\n      <td>24.000000</td>\n    </tr>\n    <tr>\n      <th>75%</th>\n      <td>2005.000000</td>\n      <td>4733.000000</td>\n      <td>24.000000</td>\n    </tr>\n    <tr>\n      <th>max</th>\n      <td>2018.000000</td>\n      <td>6310.000000</td>\n      <td>24.000000</td>\n    </tr>\n  </tbody>\n</table>\n</div>"
     },
     "execution_count": 88,
     "metadata": {},
     "output_type": "execute_result"
    }
   ],
   "source": [
    "shark.describe()"
   ],
   "metadata": {
    "collapsed": false
   }
  },
  {
   "cell_type": "code",
   "execution_count": 89,
   "outputs": [
    {
     "data": {
      "text/plain": "<Figure size 1440x648 with 1 Axes>",
      "image/png": "[encoded data removed]"
     },
     "metadata": {},
     "output_type": "display_data"
    }
   ],
   "source": [
    "fig, ax = plt.subplots(figsize = (20, 9))\n",
    "\n",
    "# Obtaining value_counts from shark DataFrame\n",
    "null_percentages = shark[\"null_count\"].value_counts(normalize=True) * 100\n",
    "\n",
    "# Creating list comprehension for color scheme\n",
    "color = [\"darkred\" if (nan_count >= 12) else \"lightcoral\" for nan_count in null_percentages.index]\n",
    "\n",
    "plt.barh(y=null_percentages.index, width=null_percentages, color=color)\n",
    "\n",
    "# Line-drawing and text annotation\n",
    "plt.axhline(y=12, linestyle=\"--\")\n",
    "ax.annotate(\"50%\", xy=(66, 12.5), fontsize=25)\n",
    "\n",
    "# x-labels\n",
    "ax.set_xlabel(\"Row count [%]\", fontsize=16)\n",
    "plt.xticks(fontsize=15)\n",
    "\n",
    "# y-labels\n",
    "ax.set_ylabel(\"Null Count\", fontsize=16)\n",
    "plt.yticks(ticks=[3, 6, 9, 12, 15, 18, 21, 24], fontsize=15)\n",
    "\n",
    "# Title\n",
    "ax.set_title(\"Null Values per Row\", fontsize=20);"
   ],
   "metadata": {
    "collapsed": false
   }
  },
  {
   "cell_type": "code",
   "execution_count": 90,
   "outputs": [],
   "source": [
    "too_many_nan_mask = shark[shark[\"null_count\"] >=20]\n",
    "shark_clean = shark.drop(too_many_nan_mask.index, axis=0)"
   ],
   "metadata": {
    "collapsed": false
   }
  },
  {
   "cell_type": "code",
   "execution_count": 91,
   "outputs": [
    {
     "data": {
      "text/plain": "<Figure size 1080x432 with 1 Axes>",
      "image/png": "[encoded data removed]"
     },
     "metadata": {},
     "output_type": "display_data"
    }
   ],
   "source": [
    "fig, ax = plt.subplots(figsize = (15, 6))\n",
    "\n",
    "clean_null_count_cols = shark_clean.isnull().sum().sort_values()\n",
    "\n",
    "plt.bar(x=clean_null_count_cols.index, height=shark_clean.shape[0], color=\"blue\", label=\"Non-null\")\n",
    "plt.bar(x=clean_null_count_cols.index, height=clean_null_count_cols, bottom=shark_clean.shape[0]-clean_null_count_cols, color=\"red\", label=\"Null\")\n",
    "\n",
    "# Line-drawing and text annotation\n",
    "plt.axhline(y=shark_clean.shape[0]/2, linestyle=\"--\")\n",
    "ax.annotate(\"50%\", xy=(25.5, shark_clean.shape[0]/2 + 100), fontsize=25)\n",
    "\n",
    "# x-labels\n",
    "ax.set_xlabel(\"Column Name\", fontsize=14)\n",
    "plt.xticks(rotation=45, fontsize=13)\n",
    "\n",
    "# y-labels\n",
    "ax.set_ylabel(\"Null Value Count\", fontsize=14)\n",
    "plt.yticks(fontsize=13)\n",
    "\n",
    "# Title and legend\n",
    "ax.set_title(\"Null Values per Column - Cleaner Dataset\", fontsize=18)\n",
    "plt.legend(fontsize=16, loc='upper left', bbox_to_anchor=(1, 1));"
   ],
   "metadata": {
    "collapsed": false
   }
  },
  {
   "cell_type": "code",
   "execution_count": 92,
   "outputs": [
    {
     "name": "stdout",
     "output_type": "stream",
     "text": [
      "Number of unique values in column 'unnamed:_22': 1\n",
      "[nan, 'stopped here']\n"
     ]
    }
   ],
   "source": [
    "print(f\"Number of unique values in column 'unnamed:_22': {shark_clean['unnamed:_22'].nunique()}\")\n",
    "print(list(shark_clean[\"unnamed:_22\"].unique()))"
   ],
   "metadata": {
    "collapsed": false
   }
  },
  {
   "cell_type": "code",
   "execution_count": 93,
   "outputs": [
    {
     "name": "stdout",
     "output_type": "stream",
     "text": [
      "Number of unique values in column 'unnamed:_23': 2\n",
      "[nan, 'Teramo', 'change filename']\n"
     ]
    }
   ],
   "source": [
    "print(f\"Number of unique values in column 'unnamed:_23': {shark_clean['unnamed:_23'].nunique()}\")\n",
    "print(list(shark_clean[\"unnamed:_23\"].unique()))"
   ],
   "metadata": {
    "collapsed": false
   }
  },
  {
   "cell_type": "code",
   "execution_count": 94,
   "outputs": [
    {
     "data": {
      "text/plain": "<Figure size 1080x432 with 1 Axes>",
      "image/png": "[encoded data removed]"
     },
     "metadata": {},
     "output_type": "display_data"
    }
   ],
   "source": [
    "shark_clean = shark_clean.drop(columns=[\"unnamed:_22\", \"unnamed:_23\"])\n",
    "\n",
    "fig, ax = plt.subplots(figsize = (15, 6))\n",
    "\n",
    "clean_null_count_cols = shark_clean.isnull().sum().sort_values()\n",
    "\n",
    "plt.bar(x=clean_null_count_cols.index, height=shark_clean.shape[0], color=\"blue\", label=\"Non-null\")\n",
    "plt.bar(x=clean_null_count_cols.index, height=clean_null_count_cols, bottom=shark_clean.shape[0]-clean_null_count_cols, color=\"red\", label=\"Null\")\n",
    "\n",
    "# Line-drawing and text annotation\n",
    "plt.axhline(y=shark_clean.shape[0]/2, linestyle=\"--\")\n",
    "ax.annotate(\"50%\", xy=(22, shark_clean.shape[0]/2 + 100), fontsize=25)\n",
    "\n",
    "# x-labels\n",
    "ax.set_xlabel(\"Column Name\", fontsize=14)\n",
    "plt.xticks(rotation=45, fontsize=13)\n",
    "\n",
    "# y-labels\n",
    "ax.set_ylabel(\"Null Value Count\", fontsize=14)\n",
    "plt.yticks(fontsize=13)\n",
    "\n",
    "# Title and legend\n",
    "ax.set_title(\"Null Values per Column - Cleaner Dataset\", fontsize=18)\n",
    "plt.legend(fontsize=16, loc='upper left', bbox_to_anchor=(1, 1));"
   ],
   "metadata": {
    "collapsed": false
   }
  },
  {
   "cell_type": "markdown",
   "source": [
    "---"
   ],
   "metadata": {
    "collapsed": false
   }
  },
  {
   "cell_type": "markdown",
   "source": [
    "# Treating specific columns"
   ],
   "metadata": {
    "collapsed": false
   }
  },
  {
   "cell_type": "markdown",
   "source": [
    "---"
   ],
   "metadata": {
    "collapsed": false
   }
  },
  {
   "cell_type": "markdown",
   "source": [
    "## \"case_number\", \"case_number.1\" and \"case_number.2\" columns"
   ],
   "metadata": {
    "collapsed": false
   }
  },
  {
   "cell_type": "code",
   "execution_count": 95,
   "outputs": [
    {
     "data": {
      "text/plain": "0    True\n1    True\n2    True\ndtype: bool"
     },
     "execution_count": 95,
     "metadata": {},
     "output_type": "execute_result"
    }
   ],
   "source": [
    "# Are \"case_number.1\" and \"case_number.2\" exact copies of \"case_number\"?\n",
    "case_number_eq_check = shark_clean[[\"case_number\", \"case_number.1\", \"case_number.2\"]].apply(\n",
    "    lambda row: all(row[col] == row[\"case_number\"] for col in [\"case_number.1\", \"case_number.2\"]), axis=1\n",
    ")\n",
    "case_number_eq_check.head(3)"
   ],
   "metadata": {
    "collapsed": false
   }
  },
  {
   "cell_type": "code",
   "execution_count": 96,
   "outputs": [
    {
     "name": "stdout",
     "output_type": "stream",
     "text": [
      "'case_number', 'case_number.1' and 'case_number.2' diverge in 24 rows\n"
     ]
    },
    {
     "data": {
      "text/plain": "       case_number case_number.1 case_number.2\n34      2018.04.03    2018.04.02    2018.04.03\n117   2017.07.20.a  2017/07.20.a  2017.07.20.a\n144     2017.05.06    2017.06.06    2017.05.06\n217     2016.09.15    2016.09.16    2016.09.15\n314   2016.01.24.b  2015.01.24.b  2016.01.24.b\n334     2015.12.23    2015.11.07    2015.12.23\n339   2015.10.28.a    2015.10.28  2015.10.28.a\n390     2015.07-10    2015.07.10    2015.07.10\n560     2014.05.04    2013.05.04    2014.05.04\n3522    1967.07.05    1967/07.05    1967.07.05\n3795  1962,08.30.b  1962.08.30.b  1962,08.30.b\n3880  1961.09.02.R  1961.09,06.R  1961.09.02.R\n4403    1952.08.05    1952.08.04    1952.08.05\n4425  1851.12.15.R  1951.12.15.R  1851.12.15.R\n4949  1934.01.08.R  1934.02.08.R  1934.02.08.R\n5275  1900.00.00.R  1919.00.00.R  1900.00.00.R\n5358  1913.07.10.R  1913.17.10.R  1913.07.10.R\n5386  1911.07.31.R  1911.07.31.T  1911.07.31.R\n5488           NaN  1905.09.06.R  1905.09.06.R\n5777  1884.04.38.R  1884.04.28.R  1884.04.38.R\n5883  1876.06.18.R  1874.06.18.R  1876.06.18.R\n5944       1864.05    1864.05.00    1864.05.00\n6009    1853,94.29    1853.04.29    1853,94.29\n6122  1808.06.01.R  1808.05.01.R  1808.06.01.R",
      "text/html": "<div>\n<style scoped>\n    .dataframe tbody tr th:only-of-type {\n        vertical-align: middle;\n    }\n\n    .dataframe tbody tr th {\n        vertical-align: top;\n    }\n\n    .dataframe thead th {\n        text-align: right;\n    }\n</style>\n<table border=\"1\" class=\"dataframe\">\n  <thead>\n    <tr style=\"text-align: right;\">\n      <th></th>\n      <th>case_number</th>\n      <th>case_number.1</th>\n      <th>case_number.2</th>\n    </tr>\n  </thead>\n  <tbody>\n    <tr>\n      <th>34</th>\n      <td>2018.04.03</td>\n      <td>2018.04.02</td>\n      <td>2018.04.03</td>\n    </tr>\n    <tr>\n      <th>117</th>\n      <td>2017.07.20.a</td>\n      <td>2017/07.20.a</td>\n      <td>2017.07.20.a</td>\n    </tr>\n    <tr>\n      <th>144</th>\n      <td>2017.05.06</td>\n      <td>2017.06.06</td>\n      <td>2017.05.06</td>\n    </tr>\n    <tr>\n      <th>217</th>\n      <td>2016.09.15</td>\n      <td>2016.09.16</td>\n      <td>2016.09.15</td>\n    </tr>\n    <tr>\n      <th>314</th>\n      <td>2016.01.24.b</td>\n      <td>2015.01.24.b</td>\n      <td>2016.01.24.b</td>\n    </tr>\n    <tr>\n      <th>334</th>\n      <td>2015.12.23</td>\n      <td>2015.11.07</td>\n      <td>2015.12.23</td>\n    </tr>\n    <tr>\n      <th>339</th>\n      <td>2015.10.28.a</td>\n      <td>2015.10.28</td>\n      <td>2015.10.28.a</td>\n    </tr>\n    <tr>\n      <th>390</th>\n      <td>2015.07-10</td>\n      <td>2015.07.10</td>\n      <td>2015.07.10</td>\n    </tr>\n    <tr>\n      <th>560</th>\n      <td>2014.05.04</td>\n      <td>2013.05.04</td>\n      <td>2014.05.04</td>\n    </tr>\n    <tr>\n      <th>3522</th>\n      <td>1967.07.05</td>\n      <td>1967/07.05</td>\n      <td>1967.07.05</td>\n    </tr>\n    <tr>\n      <th>3795</th>\n      <td>1962,08.30.b</td>\n      <td>1962.08.30.b</td>\n      <td>1962,08.30.b</td>\n    </tr>\n    <tr>\n      <th>3880</th>\n      <td>1961.09.02.R</td>\n      <td>1961.09,06.R</td>\n      <td>1961.09.02.R</td>\n    </tr>\n    <tr>\n      <th>4403</th>\n      <td>1952.08.05</td>\n      <td>1952.08.04</td>\n      <td>1952.08.05</td>\n    </tr>\n    <tr>\n      <th>4425</th>\n      <td>1851.12.15.R</td>\n      <td>1951.12.15.R</td>\n      <td>1851.12.15.R</td>\n    </tr>\n    <tr>\n      <th>4949</th>\n      <td>1934.01.08.R</td>\n      <td>1934.02.08.R</td>\n      <td>1934.02.08.R</td>\n    </tr>\n    <tr>\n      <th>5275</th>\n      <td>1900.00.00.R</td>\n      <td>1919.00.00.R</td>\n      <td>1900.00.00.R</td>\n    </tr>\n    <tr>\n      <th>5358</th>\n      <td>1913.07.10.R</td>\n      <td>1913.17.10.R</td>\n      <td>1913.07.10.R</td>\n    </tr>\n    <tr>\n      <th>5386</th>\n      <td>1911.07.31.R</td>\n      <td>1911.07.31.T</td>\n      <td>1911.07.31.R</td>\n    </tr>\n    <tr>\n      <th>5488</th>\n      <td>NaN</td>\n      <td>1905.09.06.R</td>\n      <td>1905.09.06.R</td>\n    </tr>\n    <tr>\n      <th>5777</th>\n      <td>1884.04.38.R</td>\n      <td>1884.04.28.R</td>\n      <td>1884.04.38.R</td>\n    </tr>\n    <tr>\n      <th>5883</th>\n      <td>1876.06.18.R</td>\n      <td>1874.06.18.R</td>\n      <td>1876.06.18.R</td>\n    </tr>\n    <tr>\n      <th>5944</th>\n      <td>1864.05</td>\n      <td>1864.05.00</td>\n      <td>1864.05.00</td>\n    </tr>\n    <tr>\n      <th>6009</th>\n      <td>1853,94.29</td>\n      <td>1853.04.29</td>\n      <td>1853,94.29</td>\n    </tr>\n    <tr>\n      <th>6122</th>\n      <td>1808.06.01.R</td>\n      <td>1808.05.01.R</td>\n      <td>1808.06.01.R</td>\n    </tr>\n  </tbody>\n</table>\n</div>"
     },
     "execution_count": 96,
     "metadata": {},
     "output_type": "execute_result"
    }
   ],
   "source": [
    "print(f\"'case_number', 'case_number.1' and 'case_number.2' diverge in {shark_clean.shape[0] - case_number_eq_check.sum()} rows\")\n",
    "\n",
    "shark_clean[case_number_eq_check == False][[\"case_number\", \"case_number.1\", \"case_number.2\"]]"
   ],
   "metadata": {
    "collapsed": false
   }
  },
  {
   "cell_type": "code",
   "execution_count": 97,
   "outputs": [
    {
     "data": {
      "text/plain": "case_number      1\ncase_number.1    0\ncase_number.2    0\ndtype: int64"
     },
     "execution_count": 97,
     "metadata": {},
     "output_type": "execute_result"
    }
   ],
   "source": [
    "# For some reason, \"case_number.1\" and \"case_number.2\" are not exact copies of \"case_number\",\n",
    "# diverging in 31 rows.\n",
    "# I have decided to drop two of these columns, the criteria for this selection being the two columns\n",
    "# with the highest number of null values.\n",
    "\n",
    "shark_clean[[\"case_number\", \"case_number.1\", \"case_number.2\"]].isna().sum()"
   ],
   "metadata": {
    "collapsed": false
   }
  },
  {
   "cell_type": "code",
   "execution_count": 98,
   "outputs": [],
   "source": [
    "shark_clean = shark_clean.drop(columns=[\"case_number.1\", \"case_number.2\"])"
   ],
   "metadata": {
    "collapsed": false
   }
  },
  {
   "cell_type": "code",
   "execution_count": 99,
   "outputs": [
    {
     "data": {
      "text/plain": "0"
     },
     "execution_count": 99,
     "metadata": {},
     "output_type": "execute_result"
    }
   ],
   "source": [
    "# Dropping the one null value in \"case_number\"\n",
    "\n",
    "shark_clean = shark_clean.drop(index=shark_clean[shark_clean[\"case_number\"].isna()].index)\n",
    "shark_clean[\"case_number\"].isna().sum()"
   ],
   "metadata": {
    "collapsed": false
   }
  },
  {
   "cell_type": "markdown",
   "source": [
    "---"
   ],
   "metadata": {
    "collapsed": false
   }
  },
  {
   "cell_type": "markdown",
   "source": [
    "## \"age\" column"
   ],
   "metadata": {
    "collapsed": false
   }
  },
  {
   "cell_type": "code",
   "execution_count": 156,
   "outputs": [
    {
     "data": {
      "text/plain": "27"
     },
     "execution_count": 156,
     "metadata": {},
     "output_type": "execute_result"
    }
   ],
   "source": [
    "mean_age = (\n",
    "    shark_clean[\"age\"]\n",
    "    .dropna()\n",
    "    .apply(lambda age: int(re.findall(r\"[0-9]+\", age)[0])\n",
    "            if len(re.findall(r\"[0-9]+\", age)) > 0\n",
    "            else 0\n",
    "           )\n",
    "    .astype(int)\n",
    "    .mean()\n",
    ")\n",
    "\n",
    "mean_age = int(mean_age)\n",
    "mean_age"
   ],
   "metadata": {
    "collapsed": false
   }
  },
  {
   "cell_type": "code",
   "execution_count": 159,
   "outputs": [
    {
     "data": {
      "text/plain": "     age  clean_age\n1244  29         29\n2395  35         35\n750   34         34\n420   19         19\n5366  19         19",
      "text/html": "<div>\n<style scoped>\n    .dataframe tbody tr th:only-of-type {\n        vertical-align: middle;\n    }\n\n    .dataframe tbody tr th {\n        vertical-align: top;\n    }\n\n    .dataframe thead th {\n        text-align: right;\n    }\n</style>\n<table border=\"1\" class=\"dataframe\">\n  <thead>\n    <tr style=\"text-align: right;\">\n      <th></th>\n      <th>age</th>\n      <th>clean_age</th>\n    </tr>\n  </thead>\n  <tbody>\n    <tr>\n      <th>1244</th>\n      <td>29</td>\n      <td>29</td>\n    </tr>\n    <tr>\n      <th>2395</th>\n      <td>35</td>\n      <td>35</td>\n    </tr>\n    <tr>\n      <th>750</th>\n      <td>34</td>\n      <td>34</td>\n    </tr>\n    <tr>\n      <th>420</th>\n      <td>19</td>\n      <td>19</td>\n    </tr>\n    <tr>\n      <th>5366</th>\n      <td>19</td>\n      <td>19</td>\n    </tr>\n  </tbody>\n</table>\n</div>"
     },
     "execution_count": 159,
     "metadata": {},
     "output_type": "execute_result"
    }
   ],
   "source": [
    "shark_clean[\"clean_age\"] = (\n",
    "    shark_clean[\"age\"]\n",
    "    .fillna(str(mean_age))\n",
    "    .apply(\n",
    "        lambda age: int(re.findall(r\"[0-9]+\", age)[0])\n",
    "        if len(re.findall(r\"[0-9]+\", age)) > 0\n",
    "        else str(mean_age)\n",
    "           )\n",
    "    .astype(int)\n",
    ")\n",
    "\n",
    "shark_clean[[\"age\", \"clean_age\"]].sample(5)"
   ],
   "metadata": {
    "collapsed": false
   }
  },
  {
   "cell_type": "markdown",
   "source": [
    "---"
   ],
   "metadata": {
    "collapsed": false
   }
  },
  {
   "cell_type": "markdown",
   "source": [
    "## \"sex\" column"
   ],
   "metadata": {
    "collapsed": false
   }
  },
  {
   "cell_type": "code",
   "execution_count": 162,
   "outputs": [
    {
     "data": {
      "text/plain": "m          0.808284\nf          0.101095\nunknown    0.090621\nName: clean_sex, dtype: float64"
     },
     "execution_count": 162,
     "metadata": {},
     "output_type": "execute_result"
    }
   ],
   "source": [
    "shark_clean[\"clean_sex\"] = (\n",
    "    shark_clean[\"sex\"]\n",
    "    .fillna(\"\")\n",
    "    .apply(\n",
    "        lambda sex:\n",
    "        sex.lower() if sex == \"M\"\n",
    "        else sex.lower() if sex == \"F\"\n",
    "        else \"unknown\"\n",
    "           )\n",
    ")\n",
    "\n",
    "shark_clean[\"clean_sex\"].value_counts(normalize=True)"
   ],
   "metadata": {
    "collapsed": false
   }
  },
  {
   "cell_type": "markdown",
   "source": [
    "---"
   ],
   "metadata": {
    "collapsed": false
   }
  },
  {
   "cell_type": "markdown",
   "source": [
    "## \"activity\" column"
   ],
   "metadata": {
    "collapsed": false
   }
  },
  {
   "cell_type": "code",
   "execution_count": 179,
   "outputs": [
    {
     "data": {
      "text/plain": "1569               NaN\n896       Surf fishing\n5987    Fell overboard\n943       Spearfishing\n1434               NaN\nName: activity, dtype: object"
     },
     "execution_count": 179,
     "metadata": {},
     "output_type": "execute_result"
    }
   ],
   "source": [
    "shark_clean[\"activity\"].sample(5)"
   ],
   "metadata": {
    "collapsed": false
   }
  },
  {
   "cell_type": "code",
   "execution_count": 188,
   "outputs": [
    {
     "data": {
      "text/plain": "                                               activity clean_activity\n1854                                           Swimming       swimming\n5054                                                NaN          other\n1242                                       Surf skiing            surf\n3738  Commercial fishing vessel, Ev-nn, struck objec...        fishing\n2235                                    Boogie boarding   boogie board\n1198                                            Fishing        fishing",
      "text/html": "<div>\n<style scoped>\n    .dataframe tbody tr th:only-of-type {\n        vertical-align: middle;\n    }\n\n    .dataframe tbody tr th {\n        vertical-align: top;\n    }\n\n    .dataframe thead th {\n        text-align: right;\n    }\n</style>\n<table border=\"1\" class=\"dataframe\">\n  <thead>\n    <tr style=\"text-align: right;\">\n      <th></th>\n      <th>activity</th>\n      <th>clean_activity</th>\n    </tr>\n  </thead>\n  <tbody>\n    <tr>\n      <th>1854</th>\n      <td>Swimming</td>\n      <td>swimming</td>\n    </tr>\n    <tr>\n      <th>5054</th>\n      <td>NaN</td>\n      <td>other</td>\n    </tr>\n    <tr>\n      <th>1242</th>\n      <td>Surf skiing</td>\n      <td>surf</td>\n    </tr>\n    <tr>\n      <th>3738</th>\n      <td>Commercial fishing vessel, Ev-nn, struck objec...</td>\n      <td>fishing</td>\n    </tr>\n    <tr>\n      <th>2235</th>\n      <td>Boogie boarding</td>\n      <td>boogie board</td>\n    </tr>\n    <tr>\n      <th>1198</th>\n      <td>Fishing</td>\n      <td>fishing</td>\n    </tr>\n  </tbody>\n</table>\n</div>"
     },
     "execution_count": 188,
     "metadata": {},
     "output_type": "execute_result"
    }
   ],
   "source": [
    "activity_regex = r\"swimming|div|fish|surf|bath|boat|wading|kayak|snorkel|sail|compet|boogie board\"\n",
    "\n",
    "shark_clean[\"clean_activity\"] = shark_clean[\"activity\"].fillna(\"\").apply(\n",
    "    lambda act:\n",
    "    re.findall(activity_regex, act.lower())[0] if len(re.findall(activity_regex, act.lower())) > 0\n",
    "    else \"other\"\n",
    ")\n",
    "shark_clean[[\"activity\",\"clean_activity\"]].sample(6)"
   ],
   "metadata": {
    "collapsed": false
   }
  },
  {
   "cell_type": "code",
   "execution_count": 190,
   "outputs": [],
   "source": [
    "# Rename values to improve readability\n",
    "\n",
    "# Create dict with new names\n",
    "act_name = {\n",
    "    \"div\": \"diving\",\n",
    "    \"surf\": \"surfing\",\n",
    "    \"fish\": \"fishing\",\n",
    "    \"bath\": \"bathing\",\n",
    "    \"kayak\": \"kayaking\",\n",
    "    \"snorkel\": \"snorkeling\",\n",
    "    \"sail\": \"sailing\",\n",
    "    \"compet\": \"competing\",\n",
    "    \"boogie board\": \"boogie boarding\"\n",
    "}\n",
    "\n",
    "# Apply to \"clean_activity\" column\n",
    "shark_clean[\"clean_activity\"] = shark_clean[\"clean_activity\"].apply(\n",
    "    lambda act: act_name[act]\n",
    "    if act in act_name.keys()\n",
    "    else act\n",
    ")"
   ],
   "metadata": {
    "collapsed": false
   }
  },
  {
   "cell_type": "code",
   "execution_count": 191,
   "outputs": [
    {
     "data": {
      "text/plain": "other              0.259324\nsurfing            0.191239\nswimming           0.174258\nfishing            0.174258\ndiving             0.091573\nbathing            0.030471\nwading             0.026821\nboat               0.016347\nsnorkeling         0.015077\nkayaking           0.009046\nboogie boarding    0.007777\nsailing            0.002857\ncompeting          0.000952\nName: clean_activity, dtype: float64"
     },
     "execution_count": 191,
     "metadata": {},
     "output_type": "execute_result"
    }
   ],
   "source": [
    "shark_clean[\"clean_activity\"].value_counts(normalize=True)"
   ],
   "metadata": {
    "collapsed": false
   }
  },
  {
   "cell_type": "markdown",
   "source": [
    "---"
   ],
   "metadata": {
    "collapsed": false
   }
  },
  {
   "cell_type": "markdown",
   "source": [
    "## \"species\" column"
   ],
   "metadata": {
    "collapsed": false
   }
  },
  {
   "cell_type": "code",
   "execution_count": 100,
   "outputs": [],
   "source": [
    "# Read the text file from the URL into a pandas DataFrame\n",
    "url = 'https://scipython.com/static/media/problems/P4.2/shark-species.txt'\n",
    "response = urllib.request.urlopen(url)\n",
    "lines = [l.decode('utf-8') for l in response.readlines()]\n",
    "species_df = pd.DataFrame([line.strip().split(':') for line in lines], columns=['Species', 'Common Name'])\n",
    "\n",
    "# Extract the common names and join them into a string separated by '|'\n",
    "common_names = species_df['Common Name'].str.strip().str.lower()\n",
    "common_names = common_names.fillna('')\n",
    "species_string = '|'.join(common_names)"
   ],
   "metadata": {
    "collapsed": false
   }
  },
  {
   "cell_type": "code",
   "execution_count": 101,
   "outputs": [
    {
     "name": "stdout",
     "output_type": "stream",
     "text": [
      "blacknose|silvertip|bignose|graceful|greyreef|pigeye|borneo|copper|spinner|nervous|coates's|whitecheek|silky|creekwhaler|galapagos|pondicherry|human'swhaler|finetooth|smoothtoothblacktip|bull|blacktip\n"
     ]
    }
   ],
   "source": [
    "# Remove \"shark\" from each species.\n",
    "species_string = re.sub(r\" ?shark\", \"\", species_string)\n",
    "\n",
    "# Replace any instance of \"[\" and \"]\" for \"\", as it will mes with regex syntax.\n",
    "species_string = re.sub(r\"[\\[\\]]\", \"\", species_string)\n",
    "\n",
    "# Replace any \" \" with \"\" in an effort to match more species with the DataFrame's extremely unstructured \"species\" column\n",
    "species_string = re.sub(\" \", \"\", species_string)\n",
    "\n",
    "# Replace any two or more \"|\" for only one \"|\" so as not to mess with regex syntax.\n",
    "species_string = re.sub(r\"\\|+\", \"|\", species_string)\n",
    "\n",
    "# Remove the first \"|\" before any word for the same reason as above.\n",
    "species_string = species_string[1:]\n",
    "\n",
    "# Add \"white\" species to the string, as it isn't there for some reason.\n",
    "species_string = species_string + \"|white\"\n",
    "\n",
    "# Print the species string\n",
    "print(species_string[:200])"
   ],
   "metadata": {
    "collapsed": false
   }
  },
  {
   "cell_type": "code",
   "execution_count": 102,
   "outputs": [
    {
     "data": {
      "text/plain": "         species clean_species\n2295         NaN       unknown\n3064  Blue shark          blue\n2934         NaN       unknown\n5315         NaN       unknown\n1019         NaN       unknown",
      "text/html": "<div>\n<style scoped>\n    .dataframe tbody tr th:only-of-type {\n        vertical-align: middle;\n    }\n\n    .dataframe tbody tr th {\n        vertical-align: top;\n    }\n\n    .dataframe thead th {\n        text-align: right;\n    }\n</style>\n<table border=\"1\" class=\"dataframe\">\n  <thead>\n    <tr style=\"text-align: right;\">\n      <th></th>\n      <th>species</th>\n      <th>clean_species</th>\n    </tr>\n  </thead>\n  <tbody>\n    <tr>\n      <th>2295</th>\n      <td>NaN</td>\n      <td>unknown</td>\n    </tr>\n    <tr>\n      <th>3064</th>\n      <td>Blue shark</td>\n      <td>blue</td>\n    </tr>\n    <tr>\n      <th>2934</th>\n      <td>NaN</td>\n      <td>unknown</td>\n    </tr>\n    <tr>\n      <th>5315</th>\n      <td>NaN</td>\n      <td>unknown</td>\n    </tr>\n    <tr>\n      <th>1019</th>\n      <td>NaN</td>\n      <td>unknown</td>\n    </tr>\n  </tbody>\n</table>\n</div>"
     },
     "execution_count": 102,
     "metadata": {},
     "output_type": "execute_result"
    }
   ],
   "source": [
    "shark_clean[\"clean_species\"] = shark_clean[\"species\"].fillna(\"unknown\").apply(\n",
    "    lambda species: re.findall(species_string, species.replace(\" \", \"\").lower())[0]\n",
    "    if len(re.findall(species_string, species.replace(\" \", \"\").lower())) > 0\n",
    "    else \"unknown\"\n",
    ")\n",
    "\n",
    "shark_clean[[\"species\", \"clean_species\"]].sample(5)"
   ],
   "metadata": {
    "collapsed": false
   }
  },
  {
   "cell_type": "code",
   "execution_count": 103,
   "outputs": [
    {
     "data": {
      "text/plain": "unknown                0.742581\nwhite                  0.100936\ntiger                  0.040311\nbull                   0.028726\nblacktip               0.015236\nnurse                  0.014760\nwhale                  0.012062\nblue                   0.008887\nlemon                  0.005713\noceanicwhitetip        0.004126\nspinner                0.003968\nsandtiger              0.003174\ngreyreef               0.002698\ncaribbeanreef          0.002539\ndusky                  0.002381\nporbeagle              0.001270\ngalapagos              0.001111\nbasking                0.001111\nangel                  0.000952\nsandbar                0.000952\ncopper                 0.000794\nshortfinmako           0.000635\nsilky                  0.000635\nwhitetipreef           0.000635\nleopard                0.000476\ntawnynurse             0.000476\nsalmon                 0.000476\ngoblin                 0.000317\nbroadnosesevengill     0.000317\ncookiecutter           0.000317\nsilvertip              0.000317\nportjackson            0.000159\nlongfinmako            0.000159\nblind                  0.000159\ngreathammerhead        0.000159\nscallopedhammerhead    0.000159\nhorn                   0.000159\ngummy                  0.000159\nName: clean_species, dtype: float64"
     },
     "execution_count": 103,
     "metadata": {},
     "output_type": "execute_result"
    }
   ],
   "source": [
    "shark_clean[\"clean_species\"].value_counts(normalize=True)"
   ],
   "metadata": {
    "collapsed": false
   }
  },
  {
   "cell_type": "markdown",
   "source": [
    "---"
   ],
   "metadata": {
    "collapsed": false
   }
  },
  {
   "cell_type": "markdown",
   "source": [
    "## \"injury\" column"
   ],
   "metadata": {
    "collapsed": false
   }
  },
  {
   "cell_type": "code",
   "execution_count": 104,
   "outputs": [
    {
     "data": {
      "text/plain": "4966               Lacerations to legs from fins of shark\n3666    3 m to 3.7 m [10' to 12']  great hammerhead sh...\n5761                                          Foot bitten\n982                      Bitten between left ankle & knee\nName: injury, dtype: object"
     },
     "execution_count": 104,
     "metadata": {},
     "output_type": "execute_result"
    }
   ],
   "source": [
    "shark_clean[\"injury\"].sample(4)"
   ],
   "metadata": {
    "collapsed": false
   }
  },
  {
   "cell_type": "code",
   "execution_count": 105,
   "outputs": [
    {
     "data": {
      "text/plain": "                                                 injury clean_injury\n5085    One was bitten on the leg, the other on the arm          bit\n3586  Left leg & lower right leg bitten, taken ashor...          bit\n5097                                              FATAL        fatal\n1004                            No injury, kayak bitten    no injury\n2395                                 Left arm lacerated      lacerat\n4920                         Thigh lacerated, abrasions      lacerat",
      "text/html": "<div>\n<style scoped>\n    .dataframe tbody tr th:only-of-type {\n        vertical-align: middle;\n    }\n\n    .dataframe tbody tr th {\n        vertical-align: top;\n    }\n\n    .dataframe thead th {\n        text-align: right;\n    }\n</style>\n<table border=\"1\" class=\"dataframe\">\n  <thead>\n    <tr style=\"text-align: right;\">\n      <th></th>\n      <th>injury</th>\n      <th>clean_injury</th>\n    </tr>\n  </thead>\n  <tbody>\n    <tr>\n      <th>5085</th>\n      <td>One was bitten on the leg, the other on the arm</td>\n      <td>bit</td>\n    </tr>\n    <tr>\n      <th>3586</th>\n      <td>Left leg &amp; lower right leg bitten, taken ashor...</td>\n      <td>bit</td>\n    </tr>\n    <tr>\n      <th>5097</th>\n      <td>FATAL</td>\n      <td>fatal</td>\n    </tr>\n    <tr>\n      <th>1004</th>\n      <td>No injury, kayak bitten</td>\n      <td>no injury</td>\n    </tr>\n    <tr>\n      <th>2395</th>\n      <td>Left arm lacerated</td>\n      <td>lacerat</td>\n    </tr>\n    <tr>\n      <th>4920</th>\n      <td>Thigh lacerated, abrasions</td>\n      <td>lacerat</td>\n    </tr>\n  </tbody>\n</table>\n</div>"
     },
     "execution_count": 105,
     "metadata": {},
     "output_type": "execute_result"
    }
   ],
   "source": [
    "injury_pattern = r\"no injury|fatal|bit|lacerat|sever|abrasion|drown|bruise|puncture|minor\"\n",
    "\n",
    "shark_clean[\"clean_injury\"] = shark_clean[\"injury\"].fillna(\"\").apply(\n",
    "    lambda injury:\n",
    "    re.findall(injury_pattern, injury.lower())[0] if len(re.findall(injury_pattern, injury.lower())) > 0\n",
    "    else \"unknown\"\n",
    ")\n",
    "shark_clean[[\"injury\",\"clean_injury\"]].sample(6)"
   ],
   "metadata": {
    "collapsed": false
   }
  },
  {
   "cell_type": "code",
   "execution_count": 106,
   "outputs": [],
   "source": [
    "# Rename values to improve readability\n",
    "\n",
    "# Create dict with new names\n",
    "injury_name = {\n",
    "    \"bit\": \"bite\",\n",
    "    \"lacerat\": \"laceration\",\n",
    "    \"minor\": \"minor injury\",\n",
    "    \"sever\": \"severance\",\n",
    "    \"drown\": \"drowning\"\n",
    "}\n",
    "\n",
    "# Apply to \"clean_injury\" column\n",
    "shark_clean[\"clean_injury\"] = shark_clean[\"clean_injury\"].apply(\n",
    "    lambda injury: injury_name[injury]\n",
    "    if injury in injury_name.keys()\n",
    "    else injury\n",
    ")"
   ],
   "metadata": {
    "collapsed": false
   }
  },
  {
   "cell_type": "code",
   "execution_count": 107,
   "outputs": [
    {
     "data": {
      "text/plain": "fatal           0.211395\nbite            0.206634\nlaceration      0.176321\nunknown         0.133153\nno injury       0.126964\nseverance       0.054595\nminor injury    0.037137\npuncture        0.026186\ndrowning        0.016029\nabrasion        0.006031\nbruise          0.005555\nName: clean_injury, dtype: float64"
     },
     "execution_count": 107,
     "metadata": {},
     "output_type": "execute_result"
    }
   ],
   "source": [
    "# Build value_counts() of \"clean_injury\" column\n",
    "injury_value_counts = shark_clean[\"clean_injury\"].value_counts(normalize=True)\n",
    "injury_value_counts"
   ],
   "metadata": {
    "collapsed": false
   }
  },
  {
   "cell_type": "markdown",
   "source": [
    "---"
   ],
   "metadata": {
    "collapsed": false
   }
  },
  {
   "cell_type": "markdown",
   "source": [
    "## \"date\" column"
   ],
   "metadata": {
    "collapsed": false
   }
  },
  {
   "cell_type": "code",
   "execution_count": 108,
   "outputs": [],
   "source": [
    "def standardize_date(date_str):\n",
    "    m_dict = {\n",
    "        \"jan\": \"01\",\n",
    "        \"feb\": \"02\",\n",
    "        \"mar\": \"03\",\n",
    "        \"apr\": \"04\",\n",
    "        \"may\": \"05\",\n",
    "        \"jun\": \"06\",\n",
    "        \"jul\": \"07\",\n",
    "        \"aug\": \"08\",\n",
    "        \"sep\": \"09\",\n",
    "        \"oct\": \"10\",\n",
    "        \"nov\": \"11\",\n",
    "        \"dec\": \"12\"\n",
    "    }\n",
    "\n",
    "    pattern = r'(\\d{2})\\-([a-z]{3})\\-(\\d{4})'\n",
    "    match = re.search(pattern, date_str.lower())\n",
    "\n",
    "    if match:\n",
    "        year = match.group(3)\n",
    "        month = m_dict[match.group(2)] if match.group(2) in m_dict.keys() else \"01\"\n",
    "        day = match.group(1) if int(match.group(1)) <= 31 else \"01\"\n",
    "        return f\"{year}-{month.zfill(2)}-{day.zfill(2)}\"\n",
    "\n",
    "    else:\n",
    "        return None\n",
    "\n",
    "def parse_date(date_str):\n",
    "    standardized_date = standardize_date(date_str)\n",
    "\n",
    "    if standardized_date:\n",
    "        try:\n",
    "            date = datetime.strptime(standardized_date, '%Y-%m-%d')\n",
    "            year = date.year if date.year < 2023 else 1900\n",
    "            month = date.month if 1 <= date.month <= 12 else 1\n",
    "            day = date.day if 1 <= date.day <= 31 else 1\n",
    "            return year, month, day\n",
    "\n",
    "        except ValueError:\n",
    "            pass\n",
    "\n",
    "    return 1900, 1, 1"
   ],
   "metadata": {
    "collapsed": false
   }
  },
  {
   "cell_type": "code",
   "execution_count": 109,
   "outputs": [
    {
     "data": {
      "text/plain": "                date  clean_year  clean_month  clean_day\n3052     17-Nov-1980      1980.0         11.0       17.0\n672      27-May-2013      2013.0          5.0       27.0\n2601     24-Apr-1991      1991.0          4.0       24.0\n3546  Early Nov-1966      1900.0          1.0        1.0\n1964     08-Apr-2001      2001.0          4.0        8.0",
      "text/html": "<div>\n<style scoped>\n    .dataframe tbody tr th:only-of-type {\n        vertical-align: middle;\n    }\n\n    .dataframe tbody tr th {\n        vertical-align: top;\n    }\n\n    .dataframe thead th {\n        text-align: right;\n    }\n</style>\n<table border=\"1\" class=\"dataframe\">\n  <thead>\n    <tr style=\"text-align: right;\">\n      <th></th>\n      <th>date</th>\n      <th>clean_year</th>\n      <th>clean_month</th>\n      <th>clean_day</th>\n    </tr>\n  </thead>\n  <tbody>\n    <tr>\n      <th>3052</th>\n      <td>17-Nov-1980</td>\n      <td>1980.0</td>\n      <td>11.0</td>\n      <td>17.0</td>\n    </tr>\n    <tr>\n      <th>672</th>\n      <td>27-May-2013</td>\n      <td>2013.0</td>\n      <td>5.0</td>\n      <td>27.0</td>\n    </tr>\n    <tr>\n      <th>2601</th>\n      <td>24-Apr-1991</td>\n      <td>1991.0</td>\n      <td>4.0</td>\n      <td>24.0</td>\n    </tr>\n    <tr>\n      <th>3546</th>\n      <td>Early Nov-1966</td>\n      <td>1900.0</td>\n      <td>1.0</td>\n      <td>1.0</td>\n    </tr>\n    <tr>\n      <th>1964</th>\n      <td>08-Apr-2001</td>\n      <td>2001.0</td>\n      <td>4.0</td>\n      <td>8.0</td>\n    </tr>\n  </tbody>\n</table>\n</div>"
     },
     "execution_count": 109,
     "metadata": {},
     "output_type": "execute_result"
    }
   ],
   "source": [
    "# create a new DataFrame with the extracted year, month, and day\n",
    "shark_clean[[\"clean_year\", \"clean_month\", \"clean_day\"]] = pd.DataFrame(shark_clean['date'].apply(parse_date).tolist(),\n",
    "                        columns=['year', 'month', 'day'])\n",
    "\n",
    "shark_clean[[\"date\", \"clean_year\", \"clean_month\", \"clean_day\"]].sample(5)"
   ],
   "metadata": {
    "collapsed": false
   }
  },
  {
   "cell_type": "code",
   "execution_count": 117,
   "outputs": [
    {
     "data": {
      "text/plain": "clean_year     0\nclean_month    0\nclean_day      0\ndtype: int64"
     },
     "execution_count": 117,
     "metadata": {},
     "output_type": "execute_result"
    }
   ],
   "source": [
    "shark_clean[[\"clean_year\", \"clean_month\", \"clean_day\"]].fillna({\"clean_day\": \"01\", \"clean_month\": \"01\", \"clean_year\": \"1900\"}).isna().sum()"
   ],
   "metadata": {
    "collapsed": false
   }
  },
  {
   "cell_type": "code",
   "execution_count": 125,
   "outputs": [],
   "source": [
    "# Fill NaN values and cast column values as int\n",
    "shark_clean[[\"clean_year\", \"clean_month\", \"clean_day\"]] = (\n",
    "    shark_clean[[\"clean_year\", \"clean_month\", \"clean_day\"]]\n",
    "    .fillna({\"clean_day\": \"01\", \"clean_month\": \"01\", \"clean_year\": \"1900\"})\n",
    "    .astype(int)\n",
    ")"
   ],
   "metadata": {
    "collapsed": false
   }
  },
  {
   "cell_type": "code",
   "execution_count": 126,
   "outputs": [
    {
     "data": {
      "text/plain": "      clean_year  clean_month  clean_day           clean_date\n2001        2000           10          6  2000-10-06 00:00:00\n5377        1912            1          6  1912-01-06 00:00:00\n5260        1900            1          1  1900-01-01 00:00:00\n1231        2008            7         24  2008-07-24 00:00:00\n3463        1968            8          8  1968-08-08 00:00:00",
      "text/html": "<div>\n<style scoped>\n    .dataframe tbody tr th:only-of-type {\n        vertical-align: middle;\n    }\n\n    .dataframe tbody tr th {\n        vertical-align: top;\n    }\n\n    .dataframe thead th {\n        text-align: right;\n    }\n</style>\n<table border=\"1\" class=\"dataframe\">\n  <thead>\n    <tr style=\"text-align: right;\">\n      <th></th>\n      <th>clean_year</th>\n      <th>clean_month</th>\n      <th>clean_day</th>\n      <th>clean_date</th>\n    </tr>\n  </thead>\n  <tbody>\n    <tr>\n      <th>2001</th>\n      <td>2000</td>\n      <td>10</td>\n      <td>6</td>\n      <td>2000-10-06 00:00:00</td>\n    </tr>\n    <tr>\n      <th>5377</th>\n      <td>1912</td>\n      <td>1</td>\n      <td>6</td>\n      <td>1912-01-06 00:00:00</td>\n    </tr>\n    <tr>\n      <th>5260</th>\n      <td>1900</td>\n      <td>1</td>\n      <td>1</td>\n      <td>1900-01-01 00:00:00</td>\n    </tr>\n    <tr>\n      <th>1231</th>\n      <td>2008</td>\n      <td>7</td>\n      <td>24</td>\n      <td>2008-07-24 00:00:00</td>\n    </tr>\n    <tr>\n      <th>3463</th>\n      <td>1968</td>\n      <td>8</td>\n      <td>8</td>\n      <td>1968-08-08 00:00:00</td>\n    </tr>\n  </tbody>\n</table>\n</div>"
     },
     "execution_count": 126,
     "metadata": {},
     "output_type": "execute_result"
    }
   ],
   "source": [
    "# Create \"clean_date\" column of type timestamp.\n",
    "shark_clean[\"clean_date\"] = pd.to_datetime(\n",
    "    arg=shark_clean[[\"clean_year\", \"clean_month\", \"clean_day\"]]\n",
    "    .rename(columns={\"clean_day\": \"day\", \"clean_month\": \"month\", \"clean_year\": \"year\"}),\n",
    "    format=\"%Y-%m-%d\",\n",
    "    errors=\"ignore\"\n",
    ")\n",
    "\n",
    "shark_clean[[\"clean_year\", \"clean_month\", \"clean_day\", \"clean_date\"]].sample(5)"
   ],
   "metadata": {
    "collapsed": false
   }
  },
  {
   "cell_type": "markdown",
   "source": [
    "---"
   ],
   "metadata": {
    "collapsed": false
   }
  },
  {
   "cell_type": "markdown",
   "source": [
    "## \"time\" column"
   ],
   "metadata": {
    "collapsed": false
   }
  },
  {
   "cell_type": "code",
   "execution_count": 141,
   "outputs": [
    {
     "data": {
      "text/plain": "3481    Night\n4566    16h00\n1513    16h45\n1718    15h30\n5445    11h00\nName: time, dtype: object"
     },
     "execution_count": 141,
     "metadata": {},
     "output_type": "execute_result"
    }
   ],
   "source": [
    "shark_clean[\"time\"].dropna().sample(5)"
   ],
   "metadata": {
    "collapsed": false
   }
  },
  {
   "cell_type": "code",
   "execution_count": 142,
   "outputs": [],
   "source": [
    "# Create regex to standardize \"time\" column to only contain 2 values: \"a.m.\" and \"p.m.\"\n",
    "\n",
    "def standard_time(time_str):\n",
    "    re_am_pm = r\"a\\.m\\.|p\\.m\\.\"\n",
    "    re_pm_words = r\"evening|night|dusk|afternoon\"\n",
    "    re_am_words = r\"morning|dawn\"\n",
    "    re_time = r\"([0-9]{2})h([0-9]{2})\"\n",
    "\n",
    "    # Try first to find normal a.m. or p.m. match\n",
    "    try1 = re.findall(re_am_pm, time_str)\n",
    "    if try1:\n",
    "        return try1[0]\n",
    "\n",
    "    # If unsuccessful, move to p.m. words\n",
    "    try2 = re.findall(re_pm_words, time_str)\n",
    "    if try2:\n",
    "        return \"p.m.\"\n",
    "\n",
    "    # If unsuccessful yet again, move to a.m. words\n",
    "    try3 = re.findall(re_am_words, time_str)\n",
    "    if try3:\n",
    "        return \"a.m.\"\n",
    "\n",
    "    # If neither option is successful, move to time pattern\n",
    "    try4 = re.search(re_time, time_str)\n",
    "    if try4:\n",
    "        hours = int(try4.group(1))\n",
    "        if hours < 12:\n",
    "            return \"a.m.\"\n",
    "        elif hours >=12:\n",
    "            return \"p.m.\"\n",
    "\n",
    "    return \"unknown\""
   ],
   "metadata": {
    "collapsed": false
   }
  },
  {
   "cell_type": "code",
   "execution_count": 143,
   "outputs": [
    {
     "data": {
      "text/plain": "         time clean_time\n5226      NaN    unknown\n3346      NaN    unknown\n75      12h30       p.m.\n77    Morning    unknown\n3722    12h00       p.m.",
      "text/html": "<div>\n<style scoped>\n    .dataframe tbody tr th:only-of-type {\n        vertical-align: middle;\n    }\n\n    .dataframe tbody tr th {\n        vertical-align: top;\n    }\n\n    .dataframe thead th {\n        text-align: right;\n    }\n</style>\n<table border=\"1\" class=\"dataframe\">\n  <thead>\n    <tr style=\"text-align: right;\">\n      <th></th>\n      <th>time</th>\n      <th>clean_time</th>\n    </tr>\n  </thead>\n  <tbody>\n    <tr>\n      <th>5226</th>\n      <td>NaN</td>\n      <td>unknown</td>\n    </tr>\n    <tr>\n      <th>3346</th>\n      <td>NaN</td>\n      <td>unknown</td>\n    </tr>\n    <tr>\n      <th>75</th>\n      <td>12h30</td>\n      <td>p.m.</td>\n    </tr>\n    <tr>\n      <th>77</th>\n      <td>Morning</td>\n      <td>unknown</td>\n    </tr>\n    <tr>\n      <th>3722</th>\n      <td>12h00</td>\n      <td>p.m.</td>\n    </tr>\n  </tbody>\n</table>\n</div>"
     },
     "execution_count": 143,
     "metadata": {},
     "output_type": "execute_result"
    }
   ],
   "source": [
    "# Apply standard_time function to \"time\" column to create \"clean_time\" column\n",
    "shark_clean[\"clean_time\"] = shark_clean[\"time\"].fillna(\"\").map(standard_time)\n",
    "shark_clean[[\"time\", \"clean_time\"]].sample(5)"
   ],
   "metadata": {
    "collapsed": false
   }
  },
  {
   "cell_type": "code",
   "execution_count": 145,
   "outputs": [
    {
     "data": {
      "text/plain": "unknown    0.613236\np.m.       0.254721\na.m.       0.132043\nName: clean_time, dtype: float64"
     },
     "execution_count": 145,
     "metadata": {},
     "output_type": "execute_result"
    }
   ],
   "source": [
    "shark_clean[\"clean_time\"].value_counts(normalize=True)"
   ],
   "metadata": {
    "collapsed": false
   }
  },
  {
   "cell_type": "markdown",
   "source": [
    "---"
   ],
   "metadata": {
    "collapsed": false
   }
  },
  {
   "cell_type": "markdown",
   "source": [
    "## Column Cardinality"
   ],
   "metadata": {
    "collapsed": false
   }
  },
  {
   "cell_type": "code",
   "execution_count": null,
   "outputs": [],
   "source": [
    "print(f\"For comparison reasons, shark_clean shape is {shark_clean.shape}\")\n",
    "categorical_cardinality = shark_clean.select_dtypes(include=\"object\").nunique().sort_values(ascending=False)\n",
    "categorical_cardinality"
   ],
   "metadata": {
    "collapsed": false
   }
  },
  {
   "cell_type": "code",
   "execution_count": null,
   "outputs": [],
   "source": [
    "fig, ax = plt.subplots(figsize = (15, 6))\n",
    "\n",
    "plt.bar(x=categorical_cardinality.index, height=categorical_cardinality, color=\"blue\")\n",
    "\n",
    "# Line-drawing and text annotation\n",
    "plt.axhline(y=shark_clean.shape[0], linestyle=\"--\")\n",
    "ax.annotate(\"Total row count\", xy=(15.8, shark_clean.shape[0] -400), fontsize=20)\n",
    "\n",
    "# x-labels\n",
    "ax.set_xlabel(\"Column Name\", fontsize=14)\n",
    "plt.xticks(rotation=45, fontsize=13)\n",
    "\n",
    "# y-labels\n",
    "ax.set_ylabel(\"Unique Values Count\", fontsize=14)\n",
    "plt.yticks(fontsize=13)\n",
    "\n",
    "# Title and legend\n",
    "ax.set_title(\"Unique Values - Categorical Columns\", fontsize=18);"
   ],
   "metadata": {
    "collapsed": false
   }
  },
  {
   "cell_type": "code",
   "execution_count": null,
   "outputs": [],
   "source": [
    "# Drop high-cardinality categorical columns that won't be treated\n",
    "# (except \"case_number\", which will act as primary key).\n",
    "# shark_clean = shark_clean.drop(columns=[\"pdf\", \"href_formula\", \"href\", \"name\", \"original_order\"])"
   ],
   "metadata": {
    "collapsed": false
   }
  },
  {
   "cell_type": "markdown",
   "source": [
    "---"
   ],
   "metadata": {
    "collapsed": false
   }
  },
  {
   "cell_type": "markdown",
   "source": [
    "## Anomalies in the data"
   ],
   "metadata": {
    "collapsed": false
   }
  },
  {
   "cell_type": "markdown",
   "source": [
    "---"
   ],
   "metadata": {
    "collapsed": false
   }
  },
  {
   "cell_type": "markdown",
   "source": [
    "## \"Shark involvement not confirmed\""
   ],
   "metadata": {
    "collapsed": false
   }
  },
  {
   "cell_type": "code",
   "execution_count": null,
   "outputs": [],
   "source": [
    "involvement_unconfirmed = shark_clean[\"species\"].fillna(\"unknown\").map(lambda species: \"Shark involvement\" in species)\n",
    "shark_clean[involvement_unconfirmed]"
   ],
   "metadata": {
    "collapsed": false
   }
  }
 ],
 "metadata": {
  "kernelspec": {
   "display_name": "Python 3",
   "language": "python",
   "name": "python3"
  },
  "language_info": {
   "codemirror_mode": {
    "name": "ipython",
    "version": 2
   },
   "file_extension": ".py",
   "mimetype": "text/x-python",
   "name": "python",
   "nbconvert_exporter": "python",
   "pygments_lexer": "ipython2",
   "version": "2.7.6"
  }
 },
 "nbformat": 4,
 "nbformat_minor": 0
}
